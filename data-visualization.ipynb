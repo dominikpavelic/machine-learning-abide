{
 "cells": [
  {
   "cell_type": "code",
   "execution_count": 2,
   "metadata": {},
   "outputs": [],
   "source": [
    "import pandas as pd\n",
    "import plotly.express as px\n",
    "import plotly.graph_objects as go\n",
    "import matplotlib.pyplot as plt\n",
    "import numpy as np\n",
    "import seaborn as sns"
   ]
  },
  {
   "cell_type": "code",
   "execution_count": 3,
   "metadata": {},
   "outputs": [],
   "source": [
    "pheno = pd.read_csv(\"Phenotypic_V1_0b_preprocessed1.csv\", index_col = 3, na_values= -9999)"
   ]
  },
  {
   "cell_type": "code",
   "execution_count": 4,
   "metadata": {},
   "outputs": [],
   "source": [
    "y_data = pheno[\"SITE_ID\"].unique()"
   ]
  },
  {
   "cell_type": "code",
   "execution_count": 5,
   "metadata": {},
   "outputs": [],
   "source": [
    "pitt_age = pheno.loc[pheno[\"SITE_ID\"] == \"PITT\"][\"AGE_AT_SCAN\"]\n",
    "olin_age = pheno.loc[pheno[\"SITE_ID\"] == \"OLIN\"][\"AGE_AT_SCAN\"]\n",
    "oshu_age = pheno.loc[pheno[\"SITE_ID\"] == \"OHSU\"][\"AGE_AT_SCAN\"]\n",
    "sdsu_age = pheno.loc[pheno[\"SITE_ID\"] == \"SDSU\"][\"AGE_AT_SCAN\"]\n",
    "trinity_age = pheno.loc[pheno[\"SITE_ID\"] == \"TRINITY\"][\"AGE_AT_SCAN\"]\n",
    "um_1_age = pheno.loc[pheno[\"SITE_ID\"] == \"UM_1\"][\"AGE_AT_SCAN\"]\n",
    "um_2_age = pheno.loc[pheno[\"SITE_ID\"] == \"UM_2\"][\"AGE_AT_SCAN\"]\n",
    "usm_age = pheno.loc[pheno[\"SITE_ID\"] == \"USM\"][\"AGE_AT_SCAN\"]\n",
    "yale_age = pheno.loc[pheno[\"SITE_ID\"] == \"YALE\"][\"AGE_AT_SCAN\"]\n",
    "cmu_age = pheno.loc[pheno[\"SITE_ID\"] == \"CMU\"][\"AGE_AT_SCAN\"]\n",
    "leuven_1_age = pheno.loc[pheno[\"SITE_ID\"] == \"LEUVEN_1\"][\"AGE_AT_SCAN\"]\n",
    "leuven_2_age = pheno.loc[pheno[\"SITE_ID\"] == \"LEUVEN_2\"][\"AGE_AT_SCAN\"]\n",
    "kki_age = pheno.loc[pheno[\"SITE_ID\"] == \"KKI\"][\"AGE_AT_SCAN\"]\n",
    "nyu_age = pheno.loc[pheno[\"SITE_ID\"] == \"NYU\"][\"AGE_AT_SCAN\"]\n",
    "stanford_age = pheno.loc[pheno[\"SITE_ID\"] == \"STANFORD\"][\"AGE_AT_SCAN\"]\n",
    "ucla1_age = pheno.loc[pheno[\"SITE_ID\"] == \"UCLA_1\"][\"AGE_AT_SCAN\"]\n",
    "ucla2_age = pheno.loc[pheno[\"SITE_ID\"] == \"UCLA_2\"][\"AGE_AT_SCAN\"]\n",
    "maxmun_age = pheno.loc[pheno[\"SITE_ID\"] == \"MAX_MUN\"][\"AGE_AT_SCAN\"]\n",
    "caltech_age = pheno.loc[pheno[\"SITE_ID\"] == \"CALTECH\"][\"AGE_AT_SCAN\"]\n",
    "sbl_age = pheno.loc[pheno[\"SITE_ID\"] == \"SBL\"][\"AGE_AT_SCAN\"]\n",
    "\n",
    "x_data = [pitt_age, olin_age, oshu_age, sdsu_age, trinity_age, \n",
    "          um_1_age, um_2_age, usm_age, yale_age, cmu_age, leuven_1_age, \n",
    "          leuven_2_age, kki_age, nyu_age, stanford_age, ucla1_age, ucla2_age, \n",
    "          maxmun_age, caltech_age, sbl_age\n",
    "         ] \n",
    "\n",
    "colors = [\"aquamarine\", \"papayawhip\", \"fuchsia\", \"mintcream\", \"lightyellow\",\n",
    "         \"deeppink\", \"chocolate\", \"darkorange\", \"lemonchiffon\", \"palevioletred\", \"paleturquoise\", \n",
    "         \"turquoise\", \"lightcyan\", \"lightgoldenrodyellow\", \"lime\", \"wheat\", \"mediumpurple\",\n",
    "          \"chartreuse\", \"azure\", \"palevioletred\"\n",
    "         ] \n"
   ]
  },
  {
   "cell_type": "code",
   "execution_count": 6,
   "metadata": {},
   "outputs": [
    {
     "data": {
      "application/vnd.plotly.v1+json": {
       "config": {
        "plotlyServerURL": "https://plot.ly"
       },
       "data": [
        {
         "boxpoints": "all",
         "jitter": 0.5,
         "line": {
          "width": 1
         },
         "marker": {
          "size": 2
         },
         "name": "PITT",
         "type": "box",
         "whiskerwidth": 0.2,
         "x": [
          16.77,
          24.45,
          19.09,
          13.73,
          13.37,
          17.78,
          32.45,
          33.86,
          35.2,
          16.93,
          21.48,
          9.33,
          14.2,
          14.2,
          21.82,
          22.7,
          27.81,
          20.83,
          16.99,
          12.64,
          22.64,
          31.72,
          16.28,
          12.24,
          12.74,
          11.4,
          25.12,
          12.92,
          19.8,
          12.15,
          14.77,
          17.36,
          13.28,
          19.16,
          13.95,
          30.66,
          24.6,
          27.92,
          33.17,
          13.78,
          17.13,
          15.7,
          20.65,
          15.35,
          11.81,
          15.82,
          14.37,
          12.83,
          33.24,
          12.03,
          9.44,
          16.99,
          13.59,
          12.62,
          23.1,
          21.22,
          20.34
         ]
        },
        {
         "boxpoints": "all",
         "jitter": 0.5,
         "line": {
          "width": 1
         },
         "marker": {
          "size": 2
         },
         "name": "OLIN",
         "type": "box",
         "whiskerwidth": 0.2,
         "x": [
          14,
          14,
          16,
          17,
          10,
          21,
          21,
          20,
          13,
          14,
          17,
          15,
          20,
          23,
          15,
          21,
          15,
          19,
          15,
          20,
          12,
          17,
          18,
          24,
          17,
          14,
          16,
          12,
          18,
          21,
          16,
          11,
          18,
          12,
          19,
          20
         ]
        },
        {
         "boxpoints": "all",
         "jitter": 0.5,
         "line": {
          "width": 1
         },
         "marker": {
          "size": 2
         },
         "name": "OHSU",
         "type": "box",
         "whiskerwidth": 0.2,
         "x": [
          13.99,
          13.79,
          10.22,
          10.75,
          8,
          11.35,
          12.65,
          12.32,
          9.42,
          9.73,
          9.72,
          14.42,
          15.23,
          10.5,
          11.55,
          10.29,
          11.45,
          9.15,
          8.94,
          9.4,
          8.86,
          9.69,
          8.2,
          10.08,
          9.69,
          11.99,
          10.53,
          10.64
         ]
        },
        {
         "boxpoints": "all",
         "jitter": 0.5,
         "line": {
          "width": 1
         },
         "marker": {
          "size": 2
         },
         "name": "SDSU",
         "type": "box",
         "whiskerwidth": 0.2,
         "x": [
          16.61,
          14.14,
          17.15,
          12.44,
          12.13,
          16.48,
          15.4,
          16.64,
          13.99,
          12.63,
          12.99,
          14.75,
          13.35,
          12.58,
          12.91,
          14.98,
          15.28,
          15.53,
          13.88,
          13.77,
          12.08,
          16.05,
          14.86,
          14.1,
          8.67,
          16.06,
          13.78,
          16.57,
          16.6,
          16.13,
          13.81,
          12.38,
          14.76,
          16.88,
          15.6,
          12.9
         ]
        },
        {
         "boxpoints": "all",
         "jitter": 0.5,
         "line": {
          "width": 1
         },
         "marker": {
          "size": 2
         },
         "name": "TRINITY",
         "type": "box",
         "whiskerwidth": 0.2,
         "x": [
          23.08,
          20.75,
          15.66,
          15.33,
          19.16,
          21.42,
          18.92,
          17.03,
          15.05,
          17.17,
          12.75,
          13.75,
          25.91,
          21.58,
          19.5,
          12,
          13.58,
          13.83,
          13.91,
          17.25,
          15.25,
          18.01,
          19.41,
          14.41,
          14.91,
          19.83,
          20.33,
          20.08,
          21.33,
          19.08,
          25.66,
          12.25,
          15.91,
          17.5,
          14.41,
          14.66,
          19.33,
          19.66,
          24.83,
          12.04,
          16.83,
          13.75,
          12.66,
          13.25,
          12.66,
          19.5,
          15.75,
          15.91,
          14.91
         ]
        },
        {
         "boxpoints": "all",
         "jitter": 0.5,
         "line": {
          "width": 1
         },
         "marker": {
          "size": 2
         },
         "name": "UM_1",
         "type": "box",
         "whiskerwidth": 0.2,
         "x": [
          14.2,
          16.8,
          14.2,
          11.5,
          16.8,
          15.4,
          11.3,
          12.2,
          15.6,
          10.7,
          15.2,
          11.2,
          11.2,
          12.8,
          11.2,
          14.4,
          11.1,
          12.9,
          14,
          13.9,
          12.6,
          12.4,
          12.6,
          11.5,
          15.1,
          15.9,
          12.8,
          12.2,
          9.7,
          16.1,
          10.4,
          11.6,
          11,
          10.9,
          8.5,
          9.7,
          8.9,
          9.5,
          9.7,
          9.8,
          11.2,
          13.4,
          16.1,
          13.4,
          11.8,
          9.8,
          9.2,
          15,
          18.6,
          18,
          12.4,
          14.2,
          13.8,
          13.1,
          12,
          15.3,
          17.4,
          17.1,
          16.1,
          17.2,
          10.4,
          10.2,
          11,
          17.8,
          14.3,
          11.8,
          13.5,
          18,
          16.1,
          18.2,
          12.6,
          13.8,
          18.2,
          17.3,
          18.9,
          15.6,
          19.2,
          18.9,
          12.4,
          16.8,
          15.5,
          13.1,
          14,
          10.9,
          17.2,
          9.5,
          9.8,
          10.4,
          13.9,
          18.3,
          11.2,
          9.8,
          10.8,
          15.6,
          8.2,
          10.8,
          17.9,
          14.8,
          12.8,
          12.2,
          10.2,
          17.2,
          9.7,
          11.6,
          9.2,
          11.5,
          11.6,
          14.3,
          17.4,
          16.5
         ]
        },
        {
         "boxpoints": "all",
         "jitter": 0.5,
         "line": {
          "width": 1
         },
         "marker": {
          "size": 2
         },
         "name": "UM_2",
         "type": "box",
         "whiskerwidth": 0.2,
         "x": [
          28.8,
          14.4,
          17.8,
          17.8,
          14,
          26.8,
          14.5,
          17.2,
          14.7,
          17.4,
          13.1,
          12.8,
          15.8,
          16.6,
          15.2,
          16.6,
          14.8,
          16.1,
          14,
          13.2,
          13.1,
          13.8,
          17.6,
          14.8,
          13.3,
          14.9,
          15.8,
          15.4,
          14.8,
          14.1,
          17.9,
          16.6,
          13.6,
          15.8,
          15.5
         ]
        },
        {
         "boxpoints": "all",
         "jitter": 0.5,
         "line": {
          "width": 1
         },
         "marker": {
          "size": 2
         },
         "name": "USM",
         "type": "box",
         "whiskerwidth": 0.2,
         "x": [
          18.2806,
          18.7379,
          18.2615,
          16.104,
          13.8097,
          14.9432,
          15.0253,
          22.601,
          23.948,
          27.5975,
          26.8528,
          17.0705,
          24.9884,
          18.1383,
          27.3238,
          12.9391,
          10.4668,
          18.2177,
          21.0979,
          12.5257,
          29.9685,
          8.7721,
          18.8008,
          31.2827,
          16.0986,
          34.0534,
          26.1465,
          18.1547,
          14.412,
          16.3943,
          24.6543,
          28.3669,
          9.9548,
          34.0068,
          39.2526,
          19.7591,
          39.3949,
          28.5613,
          9.9165,
          25.0157,
          22.1081,
          22.4367,
          22.0479,
          21.6482,
          20.1697,
          20.1807,
          20.178,
          22.8802,
          29.0897,
          17.1663,
          27.4114,
          21.4346,
          19.7043,
          23.5948,
          17.7878,
          25.7972,
          25.4511,
          16.7584,
          19.6277,
          26.9487,
          32.5503,
          35.7098,
          37.7769,
          22.5599,
          24.3231,
          34.4613,
          21.1307,
          25.4346,
          17.2375,
          17.7057,
          32.9582,
          28.6708,
          17.6454,
          33.1828,
          15.9343,
          28.1095,
          26.3792,
          16.7337,
          14.1437,
          16.3833,
          15.4908,
          18.4668,
          21.4018,
          15.8522,
          17.1143,
          16.501,
          18.6585,
          16.3778,
          17.6728,
          18.4175,
          14.7515,
          17.3251,
          12.334,
          32.8487,
          50.2231,
          18.4148,
          11.3539,
          42.3354,
          18.245,
          28.0903,
          16.9199
         ]
        },
        {
         "boxpoints": "all",
         "jitter": 0.5,
         "line": {
          "width": 1
         },
         "marker": {
          "size": 2
         },
         "name": "YALE",
         "type": "box",
         "whiskerwidth": 0.2,
         "x": [
          15.92,
          12.75,
          9.75,
          8.67,
          14.42,
          10.67,
          14.25,
          13.75,
          12.25,
          9.25,
          13.33,
          10.83,
          13.92,
          7.66,
          11,
          9.66,
          17.83,
          13.92,
          16.66,
          16.66,
          11,
          15.75,
          14.17,
          10.92,
          14,
          8.42,
          15.25,
          12.33,
          14.33,
          10,
          13.25,
          14.42,
          16,
          16.42,
          17.17,
          16.58,
          8.92,
          13,
          11.92,
          11.83,
          12.5,
          17.75,
          8.58,
          11.83,
          7.25,
          12.75,
          16.5,
          12.75,
          16.58,
          9.92,
          13.66,
          11.08,
          7,
          11.08,
          9.5,
          14.42
         ]
        },
        {
         "boxpoints": "all",
         "jitter": 0.5,
         "line": {
          "width": 1
         },
         "marker": {
          "size": 2
         },
         "name": "CMU",
         "type": "box",
         "whiskerwidth": 0.2,
         "x": [
          33,
          21,
          19,
          20,
          21,
          27,
          31,
          22,
          31,
          39,
          24,
          30,
          24,
          27,
          28,
          21,
          27,
          27,
          25,
          20,
          21,
          21,
          33,
          31,
          40,
          25,
          30
         ]
        },
        {
         "boxpoints": "all",
         "jitter": 0.5,
         "line": {
          "width": 1
         },
         "marker": {
          "size": 2
         },
         "name": "LEUVEN_1",
         "type": "box",
         "whiskerwidth": 0.2,
         "x": [
          23,
          24,
          23,
          19,
          22,
          21,
          21,
          22,
          22,
          22,
          22,
          19,
          19,
          20,
          19,
          28,
          21,
          23,
          18,
          18,
          29,
          29,
          24,
          22,
          22,
          32,
          25,
          27,
          19
         ]
        },
        {
         "boxpoints": "all",
         "jitter": 0.5,
         "line": {
          "width": 1
         },
         "marker": {
          "size": 2
         },
         "name": "LEUVEN_2",
         "type": "box",
         "whiskerwidth": 0.2,
         "x": [
          13.8,
          13.8,
          15.1,
          14.2,
          16.6,
          13.9,
          15.6,
          12.3,
          16.2,
          12.4,
          14.7,
          16.6,
          14.3,
          13.6,
          12.2,
          12.8,
          15.2,
          12.4,
          14.2,
          16.9,
          14.2,
          12.5,
          13,
          13.8,
          14.2,
          14.2,
          15.3,
          16.8,
          12.1,
          14.7,
          14.3,
          12.3,
          12.2,
          14.9,
          14.3
         ]
        },
        {
         "boxpoints": "all",
         "jitter": 0.5,
         "line": {
          "width": 1
         },
         "marker": {
          "size": 2
         },
         "name": "KKI",
         "type": "box",
         "whiskerwidth": 0.2,
         "x": [
          12.77,
          10.84,
          10.64,
          11,
          9.3,
          8.39,
          9.73,
          9.41,
          9.82,
          9.3,
          10.18,
          10.4,
          8.07,
          10.37,
          8.75,
          10.82,
          10.25,
          9.31,
          8.83,
          10.18,
          8.2,
          8.4,
          9.66,
          8.09,
          11.99,
          12.54,
          10.17,
          11.14,
          11.76,
          11.27,
          8.2,
          8.45,
          8.33,
          11.33,
          8.48,
          10.65,
          11.09,
          8.43,
          11.85,
          12.76,
          9.97,
          10.79,
          8.46,
          10.62,
          9.73,
          9.97,
          11.79,
          9.71,
          8.87,
          11.17,
          12.43,
          11.37,
          10.29,
          8.5,
          10.57
         ]
        },
        {
         "boxpoints": "all",
         "jitter": 0.5,
         "line": {
          "width": 1
         },
         "marker": {
          "size": 2
         },
         "name": "NYU",
         "type": "box",
         "whiskerwidth": 0.2,
         "x": [
          8.74,
          11.764,
          14.75,
          12.64,
          14.06,
          14.75,
          10.23,
          22.81,
          38.76,
          25.02,
          24.41,
          12.75,
          9.25,
          15.14,
          9.74,
          9.95,
          7.61,
          8.9,
          10.24,
          13.95,
          17.88,
          11.56,
          10.96,
          14.65,
          7.13,
          9.58,
          9.37,
          8.52,
          12.96,
          9.46,
          10.48,
          13.2,
          13.09,
          8.53,
          8.56,
          14.21,
          9.78,
          13.71,
          10.9,
          10.66,
          10.87,
          15.66,
          16.74,
          15.81,
          16.27,
          13.04,
          14.53,
          13.33,
          10.71,
          7.228,
          8.51,
          11.11,
          11.92,
          12.37,
          11.03,
          8.53,
          8.79,
          9.79,
          7.15,
          11.005,
          29.98,
          22.99,
          22.04,
          20.25,
          22.29,
          28.58,
          23.66,
          20.62,
          39.1,
          19.64,
          18.58,
          22.98,
          29.18,
          26.516,
          7.29,
          7.15,
          9.98,
          10.65,
          10.27,
          8.04,
          8.26,
          8.5,
          8.52,
          8.9,
          8.91,
          10.86,
          11.56,
          11.56,
          12.1,
          12.44,
          13.22,
          13.25,
          14.06,
          14.18,
          14.38,
          14.42,
          15.95,
          17.31,
          21.58,
          22.11,
          22.76,
          22.74,
          27.03,
          27.76,
          29.13,
          7.26,
          10.52,
          18.59,
          23.65,
          31.78,
          8.15,
          7.29,
          10.69,
          11.91,
          12.49,
          12.81,
          14.2,
          16.93,
          17.3,
          6.47,
          7.19,
          8.01,
          8.82,
          8.88,
          8.93,
          9.23,
          9.81,
          10.46,
          10.52,
          10.73,
          10.76,
          11.03,
          11.32,
          11.69,
          12.1,
          12.23,
          13.18,
          13.583,
          13.628,
          13.72,
          14.36,
          14.425,
          14.653,
          14.66,
          15.27,
          15.284,
          15.42,
          15.53,
          15.71,
          16.13,
          16.28,
          16.55,
          19.228,
          22.38,
          22.48,
          22.76,
          25.34,
          28.203,
          29.02,
          30.724,
          10.19,
          10.74,
          11.92,
          12.07,
          12.67,
          14.79,
          16.31,
          16.55,
          16.88,
          17.7,
          19.13,
          19.73,
          20.02,
          20.04,
          20.3,
          20.56,
          22.77,
          23.08,
          23.35,
          26.17,
          30.08,
          30.78,
          21.15,
          12.81
         ]
        },
        {
         "boxpoints": "all",
         "jitter": 0.5,
         "line": {
          "width": 1
         },
         "marker": {
          "size": 2
         },
         "name": "STANFORD",
         "type": "box",
         "whiskerwidth": 0.2,
         "x": [
          7.9336,
          9.0301,
          8.9199,
          9.0821,
          8.4216,
          11.8433,
          8.3833,
          11.8789,
          11.2628,
          9.7775,
          10.8652,
          12.9363,
          8.7912,
          7.5284,
          9.9473,
          8.5804,
          9.271,
          11.6982,
          11.4326,
          11.6543,
          7.7502,
          9.3149,
          10.6927,
          8.2656,
          9.1068,
          8.2464,
          8.3203,
          8.3313,
          8.9747,
          9.2081,
          8.9363,
          9.7201,
          10.2218,
          9.5202,
          12.3477,
          11.178,
          11.8816,
          12.4298,
          12.2546,
          12.3833
         ]
        },
        {
         "boxpoints": "all",
         "jitter": 0.5,
         "line": {
          "width": 1
         },
         "marker": {
          "size": 2
         },
         "name": "UCLA_1",
         "type": "box",
         "whiskerwidth": 0.2,
         "x": [
          13.52,
          11.56,
          13.37,
          14.57,
          17.94,
          15.78,
          14.11,
          16.98,
          9.99,
          16.56,
          11.27,
          15.66,
          9.11,
          10.41,
          11.56,
          10.54,
          15.22,
          16.87,
          13.93,
          14.74,
          14.58,
          11.81,
          13.31,
          12.99,
          12.33,
          9.26,
          14.53,
          8.36,
          14.59,
          17.53,
          10.28,
          15.79,
          12.75,
          10.91,
          10.67,
          12.42,
          17.4,
          10.85,
          13.67,
          14.96,
          10.9,
          14.14,
          11.69,
          13.09,
          14.98,
          13.1,
          11.97,
          13.5,
          8.49,
          14.88,
          12.36,
          10.99,
          11.8,
          14.44,
          14.8,
          15.04,
          13.38,
          11.55,
          11.07,
          13.66,
          17.79,
          11.56,
          16.03,
          13.46,
          15.92,
          14.03,
          11.25,
          17.78,
          14.29,
          11.08,
          12.09,
          13.41,
          12.68,
          10.96,
          15.74,
          13.85,
          12.01,
          9.21,
          13.82,
          9.5,
          11.83,
          12.73
         ]
        },
        {
         "boxpoints": "all",
         "jitter": 0.5,
         "line": {
          "width": 1
         },
         "marker": {
          "size": 2
         },
         "name": "UCLA_2",
         "type": "box",
         "whiskerwidth": 0.2,
         "x": [
          16.47,
          12.24,
          13.08,
          11.7,
          10.04,
          11.16,
          14.27,
          10.57,
          14.77,
          14.08,
          13.28,
          10.85,
          13,
          10.53,
          12.64,
          11.66,
          12.15,
          9.79,
          11.9,
          11.7,
          11.95,
          12.9,
          13.36,
          13.12,
          13.63,
          12.66,
          12.82
         ]
        },
        {
         "boxpoints": "all",
         "jitter": 0.5,
         "line": {
          "width": 1
         },
         "marker": {
          "size": 2
         },
         "name": "MAX_MUN",
         "type": "box",
         "whiskerwidth": 0.2,
         "x": [
          19,
          33,
          31,
          45,
          29,
          30,
          52,
          32,
          42,
          58,
          22,
          18,
          45,
          35,
          23,
          24,
          27,
          23,
          26,
          30,
          29,
          29,
          29,
          23,
          30,
          22,
          35,
          25,
          24,
          8,
          11,
          11,
          11,
          9,
          7,
          12,
          11,
          10,
          11,
          10,
          13,
          7,
          16,
          33,
          32,
          26,
          23,
          32,
          21,
          28,
          32,
          32,
          48,
          46,
          46,
          29,
          26
         ]
        },
        {
         "boxpoints": "all",
         "jitter": 0.5,
         "line": {
          "width": 1
         },
         "marker": {
          "size": 2
         },
         "name": "CALTECH",
         "type": "box",
         "whiskerwidth": 0.2,
         "x": [
          55.4,
          22.9,
          39.2,
          22.8,
          34.6,
          37.7,
          20.2,
          20.2,
          20.9,
          20.2,
          27.6,
          23.4,
          20.1,
          45.1,
          29.1,
          22.4,
          17.5,
          21.2,
          20.9,
          44.2,
          39.3,
          42.5,
          19.7,
          20,
          20.8,
          27.9,
          21.1,
          20.9,
          23.6,
          23.9,
          22,
          17,
          23.3,
          34.1,
          44.1,
          56.2,
          18.7,
          29.2
         ]
        },
        {
         "boxpoints": "all",
         "jitter": 0.5,
         "line": {
          "width": 1
         },
         "marker": {
          "size": 2
         },
         "name": "SBL",
         "type": "box",
         "whiskerwidth": 0.2,
         "x": [
          20,
          26,
          27,
          27,
          27,
          36,
          37,
          38,
          39,
          39,
          41,
          34,
          37,
          36,
          42,
          22,
          28,
          30,
          30,
          31,
          31,
          31,
          33,
          41,
          42,
          64,
          31,
          35,
          49,
          27
         ]
        }
       ],
       "layout": {
        "height": 900,
        "margin": {
         "b": 80,
         "l": 100,
         "r": 150,
         "t": 100
        },
        "paper_bgcolor": "rgb(243, 243, 243)",
        "plot_bgcolor": "rgb(243, 243, 243)",
        "showlegend": true,
        "template": {
         "data": {
          "bar": [
           {
            "error_x": {
             "color": "#2a3f5f"
            },
            "error_y": {
             "color": "#2a3f5f"
            },
            "marker": {
             "line": {
              "color": "#E5ECF6",
              "width": 0.5
             },
             "pattern": {
              "fillmode": "overlay",
              "size": 10,
              "solidity": 0.2
             }
            },
            "type": "bar"
           }
          ],
          "barpolar": [
           {
            "marker": {
             "line": {
              "color": "#E5ECF6",
              "width": 0.5
             },
             "pattern": {
              "fillmode": "overlay",
              "size": 10,
              "solidity": 0.2
             }
            },
            "type": "barpolar"
           }
          ],
          "carpet": [
           {
            "aaxis": {
             "endlinecolor": "#2a3f5f",
             "gridcolor": "white",
             "linecolor": "white",
             "minorgridcolor": "white",
             "startlinecolor": "#2a3f5f"
            },
            "baxis": {
             "endlinecolor": "#2a3f5f",
             "gridcolor": "white",
             "linecolor": "white",
             "minorgridcolor": "white",
             "startlinecolor": "#2a3f5f"
            },
            "type": "carpet"
           }
          ],
          "choropleth": [
           {
            "colorbar": {
             "outlinewidth": 0,
             "ticks": ""
            },
            "type": "choropleth"
           }
          ],
          "contour": [
           {
            "colorbar": {
             "outlinewidth": 0,
             "ticks": ""
            },
            "colorscale": [
             [
              0,
              "#0d0887"
             ],
             [
              0.1111111111111111,
              "#46039f"
             ],
             [
              0.2222222222222222,
              "#7201a8"
             ],
             [
              0.3333333333333333,
              "#9c179e"
             ],
             [
              0.4444444444444444,
              "#bd3786"
             ],
             [
              0.5555555555555556,
              "#d8576b"
             ],
             [
              0.6666666666666666,
              "#ed7953"
             ],
             [
              0.7777777777777778,
              "#fb9f3a"
             ],
             [
              0.8888888888888888,
              "#fdca26"
             ],
             [
              1,
              "#f0f921"
             ]
            ],
            "type": "contour"
           }
          ],
          "contourcarpet": [
           {
            "colorbar": {
             "outlinewidth": 0,
             "ticks": ""
            },
            "type": "contourcarpet"
           }
          ],
          "heatmap": [
           {
            "colorbar": {
             "outlinewidth": 0,
             "ticks": ""
            },
            "colorscale": [
             [
              0,
              "#0d0887"
             ],
             [
              0.1111111111111111,
              "#46039f"
             ],
             [
              0.2222222222222222,
              "#7201a8"
             ],
             [
              0.3333333333333333,
              "#9c179e"
             ],
             [
              0.4444444444444444,
              "#bd3786"
             ],
             [
              0.5555555555555556,
              "#d8576b"
             ],
             [
              0.6666666666666666,
              "#ed7953"
             ],
             [
              0.7777777777777778,
              "#fb9f3a"
             ],
             [
              0.8888888888888888,
              "#fdca26"
             ],
             [
              1,
              "#f0f921"
             ]
            ],
            "type": "heatmap"
           }
          ],
          "heatmapgl": [
           {
            "colorbar": {
             "outlinewidth": 0,
             "ticks": ""
            },
            "colorscale": [
             [
              0,
              "#0d0887"
             ],
             [
              0.1111111111111111,
              "#46039f"
             ],
             [
              0.2222222222222222,
              "#7201a8"
             ],
             [
              0.3333333333333333,
              "#9c179e"
             ],
             [
              0.4444444444444444,
              "#bd3786"
             ],
             [
              0.5555555555555556,
              "#d8576b"
             ],
             [
              0.6666666666666666,
              "#ed7953"
             ],
             [
              0.7777777777777778,
              "#fb9f3a"
             ],
             [
              0.8888888888888888,
              "#fdca26"
             ],
             [
              1,
              "#f0f921"
             ]
            ],
            "type": "heatmapgl"
           }
          ],
          "histogram": [
           {
            "marker": {
             "pattern": {
              "fillmode": "overlay",
              "size": 10,
              "solidity": 0.2
             }
            },
            "type": "histogram"
           }
          ],
          "histogram2d": [
           {
            "colorbar": {
             "outlinewidth": 0,
             "ticks": ""
            },
            "colorscale": [
             [
              0,
              "#0d0887"
             ],
             [
              0.1111111111111111,
              "#46039f"
             ],
             [
              0.2222222222222222,
              "#7201a8"
             ],
             [
              0.3333333333333333,
              "#9c179e"
             ],
             [
              0.4444444444444444,
              "#bd3786"
             ],
             [
              0.5555555555555556,
              "#d8576b"
             ],
             [
              0.6666666666666666,
              "#ed7953"
             ],
             [
              0.7777777777777778,
              "#fb9f3a"
             ],
             [
              0.8888888888888888,
              "#fdca26"
             ],
             [
              1,
              "#f0f921"
             ]
            ],
            "type": "histogram2d"
           }
          ],
          "histogram2dcontour": [
           {
            "colorbar": {
             "outlinewidth": 0,
             "ticks": ""
            },
            "colorscale": [
             [
              0,
              "#0d0887"
             ],
             [
              0.1111111111111111,
              "#46039f"
             ],
             [
              0.2222222222222222,
              "#7201a8"
             ],
             [
              0.3333333333333333,
              "#9c179e"
             ],
             [
              0.4444444444444444,
              "#bd3786"
             ],
             [
              0.5555555555555556,
              "#d8576b"
             ],
             [
              0.6666666666666666,
              "#ed7953"
             ],
             [
              0.7777777777777778,
              "#fb9f3a"
             ],
             [
              0.8888888888888888,
              "#fdca26"
             ],
             [
              1,
              "#f0f921"
             ]
            ],
            "type": "histogram2dcontour"
           }
          ],
          "mesh3d": [
           {
            "colorbar": {
             "outlinewidth": 0,
             "ticks": ""
            },
            "type": "mesh3d"
           }
          ],
          "parcoords": [
           {
            "line": {
             "colorbar": {
              "outlinewidth": 0,
              "ticks": ""
             }
            },
            "type": "parcoords"
           }
          ],
          "pie": [
           {
            "automargin": true,
            "type": "pie"
           }
          ],
          "scatter": [
           {
            "fillpattern": {
             "fillmode": "overlay",
             "size": 10,
             "solidity": 0.2
            },
            "type": "scatter"
           }
          ],
          "scatter3d": [
           {
            "line": {
             "colorbar": {
              "outlinewidth": 0,
              "ticks": ""
             }
            },
            "marker": {
             "colorbar": {
              "outlinewidth": 0,
              "ticks": ""
             }
            },
            "type": "scatter3d"
           }
          ],
          "scattercarpet": [
           {
            "marker": {
             "colorbar": {
              "outlinewidth": 0,
              "ticks": ""
             }
            },
            "type": "scattercarpet"
           }
          ],
          "scattergeo": [
           {
            "marker": {
             "colorbar": {
              "outlinewidth": 0,
              "ticks": ""
             }
            },
            "type": "scattergeo"
           }
          ],
          "scattergl": [
           {
            "marker": {
             "colorbar": {
              "outlinewidth": 0,
              "ticks": ""
             }
            },
            "type": "scattergl"
           }
          ],
          "scattermapbox": [
           {
            "marker": {
             "colorbar": {
              "outlinewidth": 0,
              "ticks": ""
             }
            },
            "type": "scattermapbox"
           }
          ],
          "scatterpolar": [
           {
            "marker": {
             "colorbar": {
              "outlinewidth": 0,
              "ticks": ""
             }
            },
            "type": "scatterpolar"
           }
          ],
          "scatterpolargl": [
           {
            "marker": {
             "colorbar": {
              "outlinewidth": 0,
              "ticks": ""
             }
            },
            "type": "scatterpolargl"
           }
          ],
          "scatterternary": [
           {
            "marker": {
             "colorbar": {
              "outlinewidth": 0,
              "ticks": ""
             }
            },
            "type": "scatterternary"
           }
          ],
          "surface": [
           {
            "colorbar": {
             "outlinewidth": 0,
             "ticks": ""
            },
            "colorscale": [
             [
              0,
              "#0d0887"
             ],
             [
              0.1111111111111111,
              "#46039f"
             ],
             [
              0.2222222222222222,
              "#7201a8"
             ],
             [
              0.3333333333333333,
              "#9c179e"
             ],
             [
              0.4444444444444444,
              "#bd3786"
             ],
             [
              0.5555555555555556,
              "#d8576b"
             ],
             [
              0.6666666666666666,
              "#ed7953"
             ],
             [
              0.7777777777777778,
              "#fb9f3a"
             ],
             [
              0.8888888888888888,
              "#fdca26"
             ],
             [
              1,
              "#f0f921"
             ]
            ],
            "type": "surface"
           }
          ],
          "table": [
           {
            "cells": {
             "fill": {
              "color": "#EBF0F8"
             },
             "line": {
              "color": "white"
             }
            },
            "header": {
             "fill": {
              "color": "#C8D4E3"
             },
             "line": {
              "color": "white"
             }
            },
            "type": "table"
           }
          ]
         },
         "layout": {
          "annotationdefaults": {
           "arrowcolor": "#2a3f5f",
           "arrowhead": 0,
           "arrowwidth": 1
          },
          "autotypenumbers": "strict",
          "coloraxis": {
           "colorbar": {
            "outlinewidth": 0,
            "ticks": ""
           }
          },
          "colorscale": {
           "diverging": [
            [
             0,
             "#8e0152"
            ],
            [
             0.1,
             "#c51b7d"
            ],
            [
             0.2,
             "#de77ae"
            ],
            [
             0.3,
             "#f1b6da"
            ],
            [
             0.4,
             "#fde0ef"
            ],
            [
             0.5,
             "#f7f7f7"
            ],
            [
             0.6,
             "#e6f5d0"
            ],
            [
             0.7,
             "#b8e186"
            ],
            [
             0.8,
             "#7fbc41"
            ],
            [
             0.9,
             "#4d9221"
            ],
            [
             1,
             "#276419"
            ]
           ],
           "sequential": [
            [
             0,
             "#0d0887"
            ],
            [
             0.1111111111111111,
             "#46039f"
            ],
            [
             0.2222222222222222,
             "#7201a8"
            ],
            [
             0.3333333333333333,
             "#9c179e"
            ],
            [
             0.4444444444444444,
             "#bd3786"
            ],
            [
             0.5555555555555556,
             "#d8576b"
            ],
            [
             0.6666666666666666,
             "#ed7953"
            ],
            [
             0.7777777777777778,
             "#fb9f3a"
            ],
            [
             0.8888888888888888,
             "#fdca26"
            ],
            [
             1,
             "#f0f921"
            ]
           ],
           "sequentialminus": [
            [
             0,
             "#0d0887"
            ],
            [
             0.1111111111111111,
             "#46039f"
            ],
            [
             0.2222222222222222,
             "#7201a8"
            ],
            [
             0.3333333333333333,
             "#9c179e"
            ],
            [
             0.4444444444444444,
             "#bd3786"
            ],
            [
             0.5555555555555556,
             "#d8576b"
            ],
            [
             0.6666666666666666,
             "#ed7953"
            ],
            [
             0.7777777777777778,
             "#fb9f3a"
            ],
            [
             0.8888888888888888,
             "#fdca26"
            ],
            [
             1,
             "#f0f921"
            ]
           ]
          },
          "colorway": [
           "#636efa",
           "#EF553B",
           "#00cc96",
           "#ab63fa",
           "#FFA15A",
           "#19d3f3",
           "#FF6692",
           "#B6E880",
           "#FF97FF",
           "#FECB52"
          ],
          "font": {
           "color": "#2a3f5f"
          },
          "geo": {
           "bgcolor": "white",
           "lakecolor": "white",
           "landcolor": "#E5ECF6",
           "showlakes": true,
           "showland": true,
           "subunitcolor": "white"
          },
          "hoverlabel": {
           "align": "left"
          },
          "hovermode": "closest",
          "mapbox": {
           "style": "light"
          },
          "paper_bgcolor": "white",
          "plot_bgcolor": "#E5ECF6",
          "polar": {
           "angularaxis": {
            "gridcolor": "white",
            "linecolor": "white",
            "ticks": ""
           },
           "bgcolor": "#E5ECF6",
           "radialaxis": {
            "gridcolor": "white",
            "linecolor": "white",
            "ticks": ""
           }
          },
          "scene": {
           "xaxis": {
            "backgroundcolor": "#E5ECF6",
            "gridcolor": "white",
            "gridwidth": 2,
            "linecolor": "white",
            "showbackground": true,
            "ticks": "",
            "zerolinecolor": "white"
           },
           "yaxis": {
            "backgroundcolor": "#E5ECF6",
            "gridcolor": "white",
            "gridwidth": 2,
            "linecolor": "white",
            "showbackground": true,
            "ticks": "",
            "zerolinecolor": "white"
           },
           "zaxis": {
            "backgroundcolor": "#E5ECF6",
            "gridcolor": "white",
            "gridwidth": 2,
            "linecolor": "white",
            "showbackground": true,
            "ticks": "",
            "zerolinecolor": "white"
           }
          },
          "shapedefaults": {
           "line": {
            "color": "#2a3f5f"
           }
          },
          "ternary": {
           "aaxis": {
            "gridcolor": "white",
            "linecolor": "white",
            "ticks": ""
           },
           "baxis": {
            "gridcolor": "white",
            "linecolor": "white",
            "ticks": ""
           },
           "bgcolor": "#E5ECF6",
           "caxis": {
            "gridcolor": "white",
            "linecolor": "white",
            "ticks": ""
           }
          },
          "title": {
           "x": 0.05
          },
          "xaxis": {
           "automargin": true,
           "gridcolor": "white",
           "linecolor": "white",
           "ticks": "",
           "title": {
            "standoff": 15
           },
           "zerolinecolor": "white",
           "zerolinewidth": 2
          },
          "yaxis": {
           "automargin": true,
           "gridcolor": "white",
           "linecolor": "white",
           "ticks": "",
           "title": {
            "standoff": 15
           },
           "zerolinecolor": "white",
           "zerolinewidth": 2
          }
         }
        },
        "title": {
         "text": "Age at scan by site"
        },
        "width": 1200,
        "xaxis": {
         "autorange": true,
         "dtick": 10,
         "gridcolor": "rgb(255, 255, 255)",
         "gridwidth": 1,
         "showgrid": true,
         "zeroline": true,
         "zerolinecolor": "rgb(255, 255, 255)",
         "zerolinewidth": 5
        },
        "yaxis": {
         "autorange": true,
         "dtick": 1,
         "gridcolor": "rgb(255, 255, 255)",
         "gridwidth": 1,
         "showgrid": true,
         "zerolinecolor": "rgb(255, 255, 255)",
         "zerolinewidth": 5
        }
       }
      }
     },
     "metadata": {},
     "output_type": "display_data"
    }
   ],
   "source": [
    "fig1 = go.Figure()\n",
    "for xd, yd, cls in zip(x_data, y_data, colors):\n",
    "    fig1.add_trace(go.Box(\n",
    "        x = xd,\n",
    "        name = yd,\n",
    "        boxpoints = \"all\",\n",
    "        jitter = 0.5,\n",
    "        whiskerwidth = 0.2,\n",
    "        marker_size = 2,\n",
    "        line_width = 1,\n",
    "        )\n",
    "    )\n",
    "\n",
    "fig1.update_layout(\n",
    "    title = \"Age at scan by site\",\n",
    "    yaxis = dict(\n",
    "        autorange = True,\n",
    "        showgrid = True,\n",
    "        #zeroline = True,\n",
    "        dtick = 1,\n",
    "        gridcolor = \"rgb(255, 255, 255)\",\n",
    "        gridwidth = 1,\n",
    "        zerolinecolor = \"rgb(255, 255, 255)\",\n",
    "        zerolinewidth = 5,\n",
    "        ),\n",
    "    xaxis = dict(\n",
    "        autorange = True,\n",
    "        showgrid = True,\n",
    "        zeroline = True,\n",
    "        dtick = 10,\n",
    "        gridcolor = \"rgb(255, 255, 255)\",\n",
    "        gridwidth = 1,\n",
    "        zerolinecolor = \"rgb(255, 255, 255)\",\n",
    "        zerolinewidth = 5,\n",
    "        ),\n",
    "    margin = dict(\n",
    "        l = 100,\n",
    "        r = 150,\n",
    "        b = 80,\n",
    "        t = 100,\n",
    "        ),\n",
    "    paper_bgcolor = \"rgb(243, 243, 243)\",\n",
    "    plot_bgcolor = \"rgb(243, 243, 243)\",\n",
    "    showlegend = True,\n",
    "    width = 1200,\n",
    "    height = 900,\n",
    "    )\n",
    "    \n",
    "fig1.show()\n",
    "    \n"
   ]
  },
  {
   "cell_type": "code",
   "execution_count": 7,
   "metadata": {},
   "outputs": [
    {
     "data": {
      "image/png": "[encoded data removed]",
      "text/plain": [
       "<Figure size 1000x600 with 1 Axes>"
      ]
     },
     "metadata": {},
     "output_type": "display_data"
    }
   ],
   "source": [
    "grouped_by_site = pheno.groupby(['SITE_ID', 'DX_GROUP']).size().reset_index(name='counts')\n",
    "# Create a bar plot\n",
    "\n",
    "\n",
    "plt.figure(figsize=(10, 6))\n",
    "sns.barplot(x='SITE_ID', y='counts', hue='DX_GROUP', data=grouped_by_site)\n",
    "plt.title('Number of Autistic and Control Subjects by Site')\n",
    "plt.xlabel('Site')\n",
    "plt.ylabel('Number of Subjects')\n",
    "plt.xticks(rotation=90) \n",
    "\n",
    "handles, _ = plt.gca().get_legend_handles_labels()\n",
    "plt.legend(title='Group', labels=['Autistic', 'Control'], handles=handles)\n",
    "plt.show()"
   ]
  },
  {
   "cell_type": "code",
   "execution_count": 8,
   "metadata": {},
   "outputs": [
    {
     "data": {
      "image/png": "[encoded data removed]",
      "text/plain": [
       "<Figure size 1500x1000 with 2 Axes>"
      ]
     },
     "metadata": {},
     "output_type": "display_data"
    }
   ],
   "source": [
    "# Create a figure with 2 subplots\n",
    "fig, axs = plt.subplots(2, 1, figsize=(15, 10))\n",
    "\n",
    "# Create the first subplot for age distribution by group\n",
    "sns.violinplot(x='DX_GROUP', y='AGE_AT_SCAN', data=pheno, hue='DX_GROUP', ax=axs[0])\n",
    "axs[0].set_title('Age Distribution by Group')\n",
    "axs[0].set_xlabel('Group')\n",
    "axs[0].set_ylabel('Age')\n",
    "axs[0].set_xticks([0, 1])\n",
    "axs[0].set_xticklabels(['Autistic', 'Control'])\n",
    "axs[0].get_legend().remove()\n",
    "\n",
    "# Create the second subplot for age distribution by sex\n",
    "# Assuming 'SEX' is the column with sex data (1 for Male, 2 for Female)\n",
    "sns.violinplot(x='SEX', y='AGE_AT_SCAN', data=pheno, hue='SEX', ax=axs[1])\n",
    "axs[1].set_title('Age Distribution by Sex')\n",
    "axs[1].set_xlabel('Sex')\n",
    "axs[1].set_ylabel('Age')\n",
    "axs[1].set_xticks([0, 1])\n",
    "axs[1].set_xticklabels(['Male', 'Female'])\n",
    "axs[1].get_legend().remove()\n",
    "\n",
    "plt.tight_layout()\n",
    "plt.show()"
   ]
  },
  {
   "cell_type": "code",
   "execution_count": 20,
   "metadata": {},
   "outputs": [
    {
     "data": {
      "text/html": [
       "<div>\n",
       "<style scoped>\n",
       "    .dataframe tbody tr th:only-of-type {\n",
       "        vertical-align: middle;\n",
       "    }\n",
       "\n",
       "    .dataframe tbody tr th {\n",
       "        vertical-align: top;\n",
       "    }\n",
       "\n",
       "    .dataframe thead th {\n",
       "        text-align: right;\n",
       "    }\n",
       "</style>\n",
       "<table border=\"1\" class=\"dataframe\">\n",
       "  <thead>\n",
       "    <tr style=\"text-align: right;\">\n",
       "      <th></th>\n",
       "      <th>(AGE_AT_SCAN, min)</th>\n",
       "      <th>(AGE_AT_SCAN, max)</th>\n",
       "      <th>1</th>\n",
       "      <th>2</th>\n",
       "      <th>1</th>\n",
       "      <th>2</th>\n",
       "    </tr>\n",
       "    <tr>\n",
       "      <th>SITE_ID</th>\n",
       "      <th></th>\n",
       "      <th></th>\n",
       "      <th></th>\n",
       "      <th></th>\n",
       "      <th></th>\n",
       "      <th></th>\n",
       "    </tr>\n",
       "  </thead>\n",
       "  <tbody>\n",
       "    <tr>\n",
       "      <th>CALTECH</th>\n",
       "      <td>17.0000</td>\n",
       "      <td>56.2000</td>\n",
       "      <td>19</td>\n",
       "      <td>19</td>\n",
       "      <td>30</td>\n",
       "      <td>8</td>\n",
       "    </tr>\n",
       "    <tr>\n",
       "      <th>CMU</th>\n",
       "      <td>19.0000</td>\n",
       "      <td>40.0000</td>\n",
       "      <td>14</td>\n",
       "      <td>13</td>\n",
       "      <td>21</td>\n",
       "      <td>6</td>\n",
       "    </tr>\n",
       "    <tr>\n",
       "      <th>KKI</th>\n",
       "      <td>8.0700</td>\n",
       "      <td>12.7700</td>\n",
       "      <td>22</td>\n",
       "      <td>33</td>\n",
       "      <td>42</td>\n",
       "      <td>13</td>\n",
       "    </tr>\n",
       "    <tr>\n",
       "      <th>LEUVEN_1</th>\n",
       "      <td>18.0000</td>\n",
       "      <td>32.0000</td>\n",
       "      <td>14</td>\n",
       "      <td>15</td>\n",
       "      <td>29</td>\n",
       "      <td>0</td>\n",
       "    </tr>\n",
       "    <tr>\n",
       "      <th>LEUVEN_2</th>\n",
       "      <td>12.1000</td>\n",
       "      <td>16.9000</td>\n",
       "      <td>15</td>\n",
       "      <td>20</td>\n",
       "      <td>27</td>\n",
       "      <td>8</td>\n",
       "    </tr>\n",
       "    <tr>\n",
       "      <th>MAX_MUN</th>\n",
       "      <td>7.0000</td>\n",
       "      <td>58.0000</td>\n",
       "      <td>24</td>\n",
       "      <td>33</td>\n",
       "      <td>50</td>\n",
       "      <td>7</td>\n",
       "    </tr>\n",
       "    <tr>\n",
       "      <th>NYU</th>\n",
       "      <td>6.4700</td>\n",
       "      <td>39.1000</td>\n",
       "      <td>79</td>\n",
       "      <td>105</td>\n",
       "      <td>147</td>\n",
       "      <td>37</td>\n",
       "    </tr>\n",
       "    <tr>\n",
       "      <th>OHSU</th>\n",
       "      <td>8.0000</td>\n",
       "      <td>15.2300</td>\n",
       "      <td>13</td>\n",
       "      <td>15</td>\n",
       "      <td>28</td>\n",
       "      <td>0</td>\n",
       "    </tr>\n",
       "    <tr>\n",
       "      <th>OLIN</th>\n",
       "      <td>10.0000</td>\n",
       "      <td>24.0000</td>\n",
       "      <td>20</td>\n",
       "      <td>16</td>\n",
       "      <td>31</td>\n",
       "      <td>5</td>\n",
       "    </tr>\n",
       "    <tr>\n",
       "      <th>PITT</th>\n",
       "      <td>9.3300</td>\n",
       "      <td>35.2000</td>\n",
       "      <td>30</td>\n",
       "      <td>27</td>\n",
       "      <td>49</td>\n",
       "      <td>8</td>\n",
       "    </tr>\n",
       "    <tr>\n",
       "      <th>SBL</th>\n",
       "      <td>20.0000</td>\n",
       "      <td>64.0000</td>\n",
       "      <td>15</td>\n",
       "      <td>15</td>\n",
       "      <td>30</td>\n",
       "      <td>0</td>\n",
       "    </tr>\n",
       "    <tr>\n",
       "      <th>SDSU</th>\n",
       "      <td>8.6700</td>\n",
       "      <td>17.1500</td>\n",
       "      <td>14</td>\n",
       "      <td>22</td>\n",
       "      <td>29</td>\n",
       "      <td>7</td>\n",
       "    </tr>\n",
       "    <tr>\n",
       "      <th>STANFORD</th>\n",
       "      <td>7.5284</td>\n",
       "      <td>12.9363</td>\n",
       "      <td>20</td>\n",
       "      <td>20</td>\n",
       "      <td>32</td>\n",
       "      <td>8</td>\n",
       "    </tr>\n",
       "    <tr>\n",
       "      <th>TRINITY</th>\n",
       "      <td>12.0000</td>\n",
       "      <td>25.9100</td>\n",
       "      <td>24</td>\n",
       "      <td>25</td>\n",
       "      <td>49</td>\n",
       "      <td>0</td>\n",
       "    </tr>\n",
       "    <tr>\n",
       "      <th>UCLA_1</th>\n",
       "      <td>8.3600</td>\n",
       "      <td>17.9400</td>\n",
       "      <td>49</td>\n",
       "      <td>33</td>\n",
       "      <td>71</td>\n",
       "      <td>11</td>\n",
       "    </tr>\n",
       "    <tr>\n",
       "      <th>UCLA_2</th>\n",
       "      <td>9.7900</td>\n",
       "      <td>16.4700</td>\n",
       "      <td>13</td>\n",
       "      <td>14</td>\n",
       "      <td>25</td>\n",
       "      <td>2</td>\n",
       "    </tr>\n",
       "    <tr>\n",
       "      <th>UM_1</th>\n",
       "      <td>8.2000</td>\n",
       "      <td>19.2000</td>\n",
       "      <td>55</td>\n",
       "      <td>55</td>\n",
       "      <td>84</td>\n",
       "      <td>26</td>\n",
       "    </tr>\n",
       "    <tr>\n",
       "      <th>UM_2</th>\n",
       "      <td>12.8000</td>\n",
       "      <td>28.8000</td>\n",
       "      <td>13</td>\n",
       "      <td>22</td>\n",
       "      <td>33</td>\n",
       "      <td>2</td>\n",
       "    </tr>\n",
       "    <tr>\n",
       "      <th>USM</th>\n",
       "      <td>8.7721</td>\n",
       "      <td>50.2231</td>\n",
       "      <td>58</td>\n",
       "      <td>43</td>\n",
       "      <td>101</td>\n",
       "      <td>0</td>\n",
       "    </tr>\n",
       "    <tr>\n",
       "      <th>YALE</th>\n",
       "      <td>7.0000</td>\n",
       "      <td>17.8300</td>\n",
       "      <td>28</td>\n",
       "      <td>28</td>\n",
       "      <td>40</td>\n",
       "      <td>16</td>\n",
       "    </tr>\n",
       "  </tbody>\n",
       "</table>\n",
       "</div>"
      ],
      "text/plain": [
       "          (AGE_AT_SCAN, min)  (AGE_AT_SCAN, max)   1    2    1   2\n",
       "SITE_ID                                                           \n",
       "CALTECH              17.0000             56.2000  19   19   30   8\n",
       "CMU                  19.0000             40.0000  14   13   21   6\n",
       "KKI                   8.0700             12.7700  22   33   42  13\n",
       "LEUVEN_1             18.0000             32.0000  14   15   29   0\n",
       "LEUVEN_2             12.1000             16.9000  15   20   27   8\n",
       "MAX_MUN               7.0000             58.0000  24   33   50   7\n",
       "NYU                   6.4700             39.1000  79  105  147  37\n",
       "OHSU                  8.0000             15.2300  13   15   28   0\n",
       "OLIN                 10.0000             24.0000  20   16   31   5\n",
       "PITT                  9.3300             35.2000  30   27   49   8\n",
       "SBL                  20.0000             64.0000  15   15   30   0\n",
       "SDSU                  8.6700             17.1500  14   22   29   7\n",
       "STANFORD              7.5284             12.9363  20   20   32   8\n",
       "TRINITY              12.0000             25.9100  24   25   49   0\n",
       "UCLA_1                8.3600             17.9400  49   33   71  11\n",
       "UCLA_2                9.7900             16.4700  13   14   25   2\n",
       "UM_1                  8.2000             19.2000  55   55   84  26\n",
       "UM_2                 12.8000             28.8000  13   22   33   2\n",
       "USM                   8.7721             50.2231  58   43  101   0\n",
       "YALE                  7.0000             17.8300  28   28   40  16"
      ]
     },
     "execution_count": 20,
     "metadata": {},
     "output_type": "execute_result"
    }
   ],
   "source": [
    "import pandas as pd\n",
    "\n",
    "# Assuming df is your DataFrame\n",
    "grouped = pheno.groupby('SITE_ID').agg({\n",
    "    'AGE_AT_SCAN': ['min', 'max']\n",
    "})\n",
    "\n",
    "dx_group_counts = pheno.groupby(['SITE_ID', 'DX_GROUP']).size().unstack(fill_value=0)\n",
    "sex_counts = pheno.groupby(['SITE_ID', 'SEX']).size().unstack(fill_value=0)\n",
    "\n",
    "# Combine the dataframes\n",
    "grouped = pd.concat([grouped, dx_group_counts, sex_counts], axis=1)\n",
    "\n",
    "# To write the grouped data into a new DataFrame\n",
    "new_df = pd.DataFrame(grouped)\n",
    "\n",
    "# To write the new DataFrame to a CSV file\n",
    "new_df.to_csv('grouped_data.csv')\n",
    "\n",
    "new_df\n"
   ]
  }
 ],
 "metadata": {
  "kernelspec": {
   "display_name": "abide-fmri",
   "language": "python",
   "name": "python3"
  },
  "language_info": {
   "codemirror_mode": {
    "name": "ipython",
    "version": 3
   },
   "file_extension": ".py",
   "mimetype": "text/x-python",
   "name": "python",
   "nbconvert_exporter": "python",
   "pygments_lexer": "ipython3",
   "version": "3.11.7"
  }
 },
 "nbformat": 4,
 "nbformat_minor": 2
}
